{
  "nbformat": 4,
  "nbformat_minor": 0,
  "metadata": {
    "colab": {
      "name": "TimeSeries_Gold_Price.ipynb",
      "provenance": [],
      "collapsed_sections": []
    },
    "kernelspec": {
      "display_name": "Python 3",
      "name": "python3"
    },
    "language_info": {
      "name": "python"
    }
  },
  "cells": [
    {
      "cell_type": "markdown",
      "metadata": {
        "id": "HZZiCB34pWtr"
      },
      "source": [
        "***Nama : Laily Khoirunnisa'***\n",
        "\n",
        "*Membuat Model Prediksi Time Series 'Gold Price' (Harga Emas dari Tahun ke Tahun)*\n",
        "\n",
        "`Submission 2-Time Series Kelas Dicoding: Pengembangan Machine Learning`"
      ]
    },
    {
      "cell_type": "markdown",
      "metadata": {
        "id": "gbbJA_rI_vFb"
      },
      "source": [
        "<h1> <strong> 1. Import library yang diperlukan</strong></h1>"
      ]
    },
    {
      "cell_type": "code",
      "metadata": {
        "id": "Jb54fU9J0dhg"
      },
      "source": [
        "import numpy as np\n",
        "import pandas as pd\n",
        "import zipfile,os\n",
        "from keras.layers import Dense, LSTM\n",
        "import matplotlib.pyplot as plt\n",
        "import tensorflow as tf\n",
        "from google.colab import files\n",
        "from sklearn.preprocessing import StandardScaler"
      ],
      "execution_count": 2,
      "outputs": []
    },
    {
      "cell_type": "markdown",
      "metadata": {
        "id": "tRd3NM5kAbfc"
      },
      "source": [
        "<h1> <strong> 2. Mengambil dataset dari Kaggle</strong></h1>"
      ]
    },
    {
      "cell_type": "code",
      "metadata": {
        "colab": {
          "resources": {
            "http://localhost:8080/nbextensions/google.colab/files.js": {
              "data": "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",
              "ok": true,
              "headers": [
                [
                  "content-type",
                  "application/javascript"
                ]
              ],
              "status": 200,
              "status_text": ""
            }
          },
          "base_uri": "https://localhost:8080/",
          "height": 143
        },
        "id": "iG_4lii-r38t",
        "outputId": "da83172f-457d-417d-b98d-e62ad4f82e41"
      },
      "source": [
        "!pip install -q kaggle\n",
        "files.upload()\n",
        "\n",
        "!mkdir -p ~/.kaggle\n",
        "!cp kaggle.json ~/.kaggle/\n",
        "!ls ~/.kaggle\n",
        "!chmod 600 /root/.kaggle/kaggle.json\n",
        "\n",
        "!kaggle datasets download -d arashnic/learn-time-series-forecasting-from-gold-price"
      ],
      "execution_count": 3,
      "outputs": [
        {
          "output_type": "display_data",
          "data": {
            "text/html": [
              "\n",
              "     <input type=\"file\" id=\"files-d5488027-8cd3-47cf-8c17-511362ab93f6\" name=\"files[]\" multiple disabled\n",
              "        style=\"border:none\" />\n",
              "     <output id=\"result-d5488027-8cd3-47cf-8c17-511362ab93f6\">\n",
              "      Upload widget is only available when the cell has been executed in the\n",
              "      current browser session. Please rerun this cell to enable.\n",
              "      </output>\n",
              "      <script src=\"/nbextensions/google.colab/files.js\"></script> "
            ],
            "text/plain": [
              "<IPython.core.display.HTML object>"
            ]
          },
          "metadata": {
            "tags": []
          }
        },
        {
          "output_type": "stream",
          "text": [
            "Saving kaggle.json to kaggle.json\n",
            "kaggle.json\n",
            "Downloading learn-time-series-forecasting-from-gold-price.zip to /content\n",
            "  0% 0.00/48.6k [00:00<?, ?B/s]\n",
            "100% 48.6k/48.6k [00:00<00:00, 22.9MB/s]\n"
          ],
          "name": "stdout"
        }
      ]
    },
    {
      "cell_type": "code",
      "metadata": {
        "colab": {
          "base_uri": "https://localhost:8080/"
        },
        "id": "wzEFA6bvtGUi",
        "outputId": "0dd78e46-dbef-4ab2-866d-4d1233510df5"
      },
      "source": [
        "!ls"
      ],
      "execution_count": 3,
      "outputs": [
        {
          "output_type": "stream",
          "text": [
            "kaggle.json  learn-time-series-forecasting-from-gold-price.zip\tsample_data\n"
          ],
          "name": "stdout"
        }
      ]
    },
    {
      "cell_type": "markdown",
      "metadata": {
        "id": "pagI_dVfAhQQ"
      },
      "source": [
        "<h1> <strong> 3. Ekstraksi dataset Gold Price</strong></h1>"
      ]
    },
    {
      "cell_type": "code",
      "metadata": {
        "id": "nbNJ6eGUtKL7"
      },
      "source": [
        "local_zip = 'learn-time-series-forecasting-from-gold-price.zip'\n",
        "zip_ref = zipfile.ZipFile(local_zip, 'r')\n",
        "zip_ref.extractall('/tmp')\n",
        "zip_ref.close()"
      ],
      "execution_count": 4,
      "outputs": []
    },
    {
      "cell_type": "markdown",
      "metadata": {
        "id": "wqmUxAijArvz"
      },
      "source": [
        "<h1> <strong> 4. Preprocessing dataset Gold Price</strong></h1>"
      ]
    },
    {
      "cell_type": "markdown",
      "metadata": {
        "id": "p0Wu7JR9A-JQ"
      },
      "source": [
        "<h6> <strong> a. Mengubah dataset ke bentuk dataframe</strong></h6>"
      ]
    },
    {
      "cell_type": "code",
      "metadata": {
        "colab": {
          "base_uri": "https://localhost:8080/",
          "height": 202
        },
        "id": "yxu7aTwWtRv0",
        "outputId": "c5d9729c-294d-46a7-a261-a98d5b91fe3b"
      },
      "source": [
        "df = pd.read_csv('/tmp/gold_price_data.csv')\n",
        "df.head()"
      ],
      "execution_count": 5,
      "outputs": [
        {
          "output_type": "execute_result",
          "data": {
            "text/html": [
              "<div>\n",
              "<style scoped>\n",
              "    .dataframe tbody tr th:only-of-type {\n",
              "        vertical-align: middle;\n",
              "    }\n",
              "\n",
              "    .dataframe tbody tr th {\n",
              "        vertical-align: top;\n",
              "    }\n",
              "\n",
              "    .dataframe thead th {\n",
              "        text-align: right;\n",
              "    }\n",
              "</style>\n",
              "<table border=\"1\" class=\"dataframe\">\n",
              "  <thead>\n",
              "    <tr style=\"text-align: right;\">\n",
              "      <th></th>\n",
              "      <th>Date</th>\n",
              "      <th>Value</th>\n",
              "    </tr>\n",
              "  </thead>\n",
              "  <tbody>\n",
              "    <tr>\n",
              "      <th>0</th>\n",
              "      <td>1970-01-01</td>\n",
              "      <td>35.2</td>\n",
              "    </tr>\n",
              "    <tr>\n",
              "      <th>1</th>\n",
              "      <td>1970-04-01</td>\n",
              "      <td>35.1</td>\n",
              "    </tr>\n",
              "    <tr>\n",
              "      <th>2</th>\n",
              "      <td>1970-07-01</td>\n",
              "      <td>35.4</td>\n",
              "    </tr>\n",
              "    <tr>\n",
              "      <th>3</th>\n",
              "      <td>1970-10-01</td>\n",
              "      <td>36.2</td>\n",
              "    </tr>\n",
              "    <tr>\n",
              "      <th>4</th>\n",
              "      <td>1971-01-01</td>\n",
              "      <td>37.4</td>\n",
              "    </tr>\n",
              "  </tbody>\n",
              "</table>\n",
              "</div>"
            ],
            "text/plain": [
              "         Date  Value\n",
              "0  1970-01-01   35.2\n",
              "1  1970-04-01   35.1\n",
              "2  1970-07-01   35.4\n",
              "3  1970-10-01   36.2\n",
              "4  1971-01-01   37.4"
            ]
          },
          "metadata": {
            "tags": []
          },
          "execution_count": 5
        }
      ]
    },
    {
      "cell_type": "code",
      "metadata": {
        "colab": {
          "base_uri": "https://localhost:8080/",
          "height": 202
        },
        "id": "xqyRn8OzQEw_",
        "outputId": "ad6fe895-ed1d-4538-e428-aa1000b78575"
      },
      "source": [
        "df.tail()"
      ],
      "execution_count": 6,
      "outputs": [
        {
          "output_type": "execute_result",
          "data": {
            "text/html": [
              "<div>\n",
              "<style scoped>\n",
              "    .dataframe tbody tr th:only-of-type {\n",
              "        vertical-align: middle;\n",
              "    }\n",
              "\n",
              "    .dataframe tbody tr th {\n",
              "        vertical-align: top;\n",
              "    }\n",
              "\n",
              "    .dataframe thead th {\n",
              "        text-align: right;\n",
              "    }\n",
              "</style>\n",
              "<table border=\"1\" class=\"dataframe\">\n",
              "  <thead>\n",
              "    <tr style=\"text-align: right;\">\n",
              "      <th></th>\n",
              "      <th>Date</th>\n",
              "      <th>Value</th>\n",
              "    </tr>\n",
              "  </thead>\n",
              "  <tbody>\n",
              "    <tr>\n",
              "      <th>10782</th>\n",
              "      <td>2020-03-09</td>\n",
              "      <td>1672.50</td>\n",
              "    </tr>\n",
              "    <tr>\n",
              "      <th>10783</th>\n",
              "      <td>2020-03-10</td>\n",
              "      <td>1655.70</td>\n",
              "    </tr>\n",
              "    <tr>\n",
              "      <th>10784</th>\n",
              "      <td>2020-03-11</td>\n",
              "      <td>1653.75</td>\n",
              "    </tr>\n",
              "    <tr>\n",
              "      <th>10785</th>\n",
              "      <td>2020-03-12</td>\n",
              "      <td>1570.70</td>\n",
              "    </tr>\n",
              "    <tr>\n",
              "      <th>10786</th>\n",
              "      <td>2020-03-13</td>\n",
              "      <td>1562.80</td>\n",
              "    </tr>\n",
              "  </tbody>\n",
              "</table>\n",
              "</div>"
            ],
            "text/plain": [
              "             Date    Value\n",
              "10782  2020-03-09  1672.50\n",
              "10783  2020-03-10  1655.70\n",
              "10784  2020-03-11  1653.75\n",
              "10785  2020-03-12  1570.70\n",
              "10786  2020-03-13  1562.80"
            ]
          },
          "metadata": {
            "tags": []
          },
          "execution_count": 6
        }
      ]
    },
    {
      "cell_type": "markdown",
      "metadata": {
        "id": "FFwivsDIBNXL"
      },
      "source": [
        "<h6> <strong> b. Mengubah tipe data 'Date' dari String menjadi Datetime</strong></h6>"
      ]
    },
    {
      "cell_type": "code",
      "metadata": {
        "id": "E_L-TzhvajPK"
      },
      "source": [
        "df['Date']=pd.to_datetime(df['Date'], format='%Y-%m-%d')"
      ],
      "execution_count": 7,
      "outputs": []
    },
    {
      "cell_type": "markdown",
      "metadata": {
        "id": "i8hPh07TBW1M"
      },
      "source": [
        "<h6> <strong> c. Cek nilai Null pada data</strong></h6>"
      ]
    },
    {
      "cell_type": "code",
      "metadata": {
        "colab": {
          "base_uri": "https://localhost:8080/"
        },
        "id": "hL3QTWA_0q30",
        "outputId": "0a659266-4ec4-440c-e58b-33be089e5a97"
      },
      "source": [
        "df.isnull().sum()"
      ],
      "execution_count": 8,
      "outputs": [
        {
          "output_type": "execute_result",
          "data": {
            "text/plain": [
              "Date     0\n",
              "Value    0\n",
              "dtype: int64"
            ]
          },
          "metadata": {
            "tags": []
          },
          "execution_count": 8
        }
      ]
    },
    {
      "cell_type": "markdown",
      "metadata": {
        "id": "cRU9xY9fBdcA"
      },
      "source": [
        "<h6> <strong> d. Standarisasi data dengan StandardScaler agar nilai yang diolah tidak terlalu besar namun tetap robust</strong></h6>"
      ]
    },
    {
      "cell_type": "code",
      "metadata": {
        "id": "u2cHOFtjed1h"
      },
      "source": [
        "scaler = StandardScaler()\n",
        "scaler = scaler.fit(df[['Value']])\n",
        "df['Value'] = scaler.transform(df[['Value']])"
      ],
      "execution_count": 9,
      "outputs": []
    },
    {
      "cell_type": "markdown",
      "metadata": {
        "id": "KKNZKhsYB1GM"
      },
      "source": [
        "<h6> <strong> e. Melihat bentuk data setelah distandarisasi</strong></h6>"
      ]
    },
    {
      "cell_type": "code",
      "metadata": {
        "colab": {
          "base_uri": "https://localhost:8080/",
          "height": 79
        },
        "id": "wq3GxhOre18K",
        "outputId": "ca197337-21bc-48a2-e2a2-3b282db67ade"
      },
      "source": [
        "df.describe().transpose()"
      ],
      "execution_count": 10,
      "outputs": [
        {
          "output_type": "execute_result",
          "data": {
            "text/html": [
              "<div>\n",
              "<style scoped>\n",
              "    .dataframe tbody tr th:only-of-type {\n",
              "        vertical-align: middle;\n",
              "    }\n",
              "\n",
              "    .dataframe tbody tr th {\n",
              "        vertical-align: top;\n",
              "    }\n",
              "\n",
              "    .dataframe thead th {\n",
              "        text-align: right;\n",
              "    }\n",
              "</style>\n",
              "<table border=\"1\" class=\"dataframe\">\n",
              "  <thead>\n",
              "    <tr style=\"text-align: right;\">\n",
              "      <th></th>\n",
              "      <th>count</th>\n",
              "      <th>mean</th>\n",
              "      <th>std</th>\n",
              "      <th>min</th>\n",
              "      <th>25%</th>\n",
              "      <th>50%</th>\n",
              "      <th>75%</th>\n",
              "      <th>max</th>\n",
              "    </tr>\n",
              "  </thead>\n",
              "  <tbody>\n",
              "    <tr>\n",
              "      <th>Value</th>\n",
              "      <td>10787.0</td>\n",
              "      <td>4.616272e-16</td>\n",
              "      <td>1.000046</td>\n",
              "      <td>-1.425072</td>\n",
              "      <td>-0.701357</td>\n",
              "      <td>-0.562766</td>\n",
              "      <td>0.940134</td>\n",
              "      <td>2.860306</td>\n",
              "    </tr>\n",
              "  </tbody>\n",
              "</table>\n",
              "</div>"
            ],
            "text/plain": [
              "         count          mean       std  ...       50%       75%       max\n",
              "Value  10787.0  4.616272e-16  1.000046  ... -0.562766  0.940134  2.860306\n",
              "\n",
              "[1 rows x 8 columns]"
            ]
          },
          "metadata": {
            "tags": []
          },
          "execution_count": 10
        }
      ]
    },
    {
      "cell_type": "markdown",
      "metadata": {
        "id": "groZEwDBCEcm"
      },
      "source": [
        "<h1> <strong> 5. Grafik Gold Price</strong></h1>"
      ]
    },
    {
      "cell_type": "code",
      "metadata": {
        "colab": {
          "base_uri": "https://localhost:8080/",
          "height": 409
        },
        "id": "1DtDGCZTUdyt",
        "outputId": "dd6ae5c3-e743-4007-893d-9255282a012a"
      },
      "source": [
        "date_data = df['Date'].values\n",
        "price_data = df['Value'].values\n",
        "\n",
        "plt.style.use('seaborn')\n",
        "plt.figure(figsize=(15, 6))\n",
        "plt.plot(date_data,price_data,color= 'darkcyan')\n",
        "plt.xlabel(\"Year\"); \n",
        "plt.ylabel(\"Price (US $ per ounce)\");\n",
        "plt.title('Gold Price',\n",
        "          fontsize=20);\n",
        "plt.show()"
      ],
      "execution_count": 11,
      "outputs": [
        {
          "output_type": "display_data",
          "data": {
            "image/png": "[encoded data removed]",
            "text/plain": [
              "<Figure size 1080x432 with 1 Axes>"
            ]
          },
          "metadata": {
            "tags": []
          }
        }
      ]
    },
    {
      "cell_type": "markdown",
      "metadata": {
        "id": "xeE72nX_CzWa"
      },
      "source": [
        "<h1> <strong> 6. Membagi dataset menjadi 80% data train dan 20% data test</strong></h1>"
      ]
    },
    {
      "cell_type": "code",
      "metadata": {
        "id": "raKvLghuZ7vR"
      },
      "source": [
        "from sklearn.model_selection import train_test_split\n",
        "price_train, price_test, date_train, date_test = train_test_split(price_data, date_data, test_size=0.2, random_state=0,shuffle=False)"
      ],
      "execution_count": 12,
      "outputs": []
    },
    {
      "cell_type": "code",
      "metadata": {
        "colab": {
          "base_uri": "https://localhost:8080/"
        },
        "id": "iitgicYTRtcQ",
        "outputId": "5fb4a75f-58f8-433e-f85b-f74a12e948f0"
      },
      "source": [
        "len(date_train)"
      ],
      "execution_count": 31,
      "outputs": [
        {
          "output_type": "execute_result",
          "data": {
            "text/plain": [
              "8629"
            ]
          },
          "metadata": {
            "tags": []
          },
          "execution_count": 31
        }
      ]
    },
    {
      "cell_type": "markdown",
      "metadata": {
        "id": "xunafFI_DIcC"
      },
      "source": [
        "<h1> <strong> 7. Definisi fungsi <code>windowed_dataset</code> untuk mengelompokkan data time series</strong></h1>"
      ]
    },
    {
      "cell_type": "code",
      "metadata": {
        "id": "tGBDv6cLm3h9"
      },
      "source": [
        "def windowed_dataset(series, window_size, batch_size, shuffle_buffer):\n",
        "    series = tf.expand_dims(series, axis=-1)\n",
        "    ds = tf.data.Dataset.from_tensor_slices(series)\n",
        "    ds = ds.window(window_size + 1, shift=1, drop_remainder=True)\n",
        "    ds = ds.flat_map(lambda w: w.batch(window_size + 1))\n",
        "    ds = ds.shuffle(shuffle_buffer)\n",
        "    ds = ds.map(lambda w: (w[:-1], w[-1:]))\n",
        "    return ds.batch(batch_size).prefetch(1)"
      ],
      "execution_count": 13,
      "outputs": []
    },
    {
      "cell_type": "markdown",
      "metadata": {
        "id": "CDGhPtQJDhVm"
      },
      "source": [
        "<h1> <strong> 8. Mengelompokkan data dan membuat model Sequensial</strong></h1>"
      ]
    },
    {
      "cell_type": "code",
      "metadata": {
        "id": "Jd9j8nFAy8aO"
      },
      "source": [
        "train_set = windowed_dataset(price_train, window_size=60, batch_size=100, shuffle_buffer=100)\n",
        "val_set = windowed_dataset(price_test, window_size=60, batch_size=100, shuffle_buffer=100)\n",
        "\n",
        "model = tf.keras.models.Sequential([\n",
        "  tf.keras.layers.Bidirectional(tf.keras.layers.LSTM(128, return_sequences=True)),\n",
        "  tf.keras.layers.Bidirectional(tf.keras.layers.LSTM(64, return_sequences=True)),\n",
        "  tf.keras.layers.LSTM(64),\n",
        "  tf.keras.layers.Dropout(0.2),\n",
        "  tf.keras.layers.Dense(10, activation=\"relu\"),\n",
        "  tf.keras.layers.Dense(1),\n",
        "])"
      ],
      "execution_count": 14,
      "outputs": []
    },
    {
      "cell_type": "markdown",
      "metadata": {
        "id": "bHVCt4DWDx9I"
      },
      "source": [
        "<h1> <strong> 9. Mendefinisikan <code>Callbacks</code>: <code>EarlyStopping</code> dan <code>ModelCheckPoint</code></strong></h1>"
      ]
    },
    {
      "cell_type": "code",
      "metadata": {
        "id": "Ob10-0T3kt5T"
      },
      "source": [
        "#EarlyStopping and ModelCheckpoint\n",
        "\n",
        "from keras.callbacks import EarlyStopping, ModelCheckpoint\n",
        "\n",
        "es = EarlyStopping(monitor = 'val_mae', mode = 'min', verbose = 1, patience = 20)\n",
        "mc = ModelCheckpoint('./model.h5', monitor = 'val_mae', mode = 'min', verbose = 1, save_best_only = True)\n"
      ],
      "execution_count": 18,
      "outputs": []
    },
    {
      "cell_type": "markdown",
      "metadata": {
        "id": "jDyzhrY2EpzI"
      },
      "source": [
        "<h1> <strong> 10. Proses training model</strong></h1>\n",
        "<h6>\n",
        "\n",
        "```\n",
        "Target MAE <10%  atau <0.4285378\n",
        "```\n",
        "\n",
        "</h6>"
      ]
    },
    {
      "cell_type": "code",
      "metadata": {
        "colab": {
          "base_uri": "https://localhost:8080/"
        },
        "id": "dflMKVvOzS92",
        "outputId": "68657069-ac4e-4af6-b554-b006c7607226"
      },
      "source": [
        "optimizer = tf.keras.optimizers.SGD(learning_rate=1.0000e-03, momentum=0.9)\n",
        "model.compile(loss=tf.keras.losses.Huber(),\n",
        "              optimizer=optimizer,\n",
        "              metrics=[\"mae\"])\n",
        "history = model.fit(train_set,\n",
        "                    epochs=100,\n",
        "                    validation_data = val_set,\n",
        "                    verbose =2,\n",
        "                    callbacks=[es,mc])"
      ],
      "execution_count": 19,
      "outputs": [
        {
          "output_type": "stream",
          "text": [
            "Epoch 1/100\n",
            "86/86 - 64s - loss: 0.1624 - mae: 0.4278 - val_loss: 0.9404 - val_mae: 1.4402\n",
            "\n",
            "Epoch 00001: val_mae improved from inf to 1.44024, saving model to ./model.h5\n",
            "Epoch 2/100\n",
            "86/86 - 52s - loss: 0.0486 - mae: 0.2061 - val_loss: 0.2969 - val_mae: 0.7163\n",
            "\n",
            "Epoch 00002: val_mae improved from 1.44024 to 0.71634, saving model to ./model.h5\n",
            "Epoch 3/100\n",
            "86/86 - 52s - loss: 0.0190 - mae: 0.1231 - val_loss: 0.0730 - val_mae: 0.2726\n",
            "\n",
            "Epoch 00003: val_mae improved from 0.71634 to 0.27259, saving model to ./model.h5\n",
            "Epoch 4/100\n",
            "86/86 - 52s - loss: 0.0160 - mae: 0.1201 - val_loss: 0.0481 - val_mae: 0.2047\n",
            "\n",
            "Epoch 00004: val_mae improved from 0.27259 to 0.20465, saving model to ./model.h5\n",
            "Epoch 5/100\n",
            "86/86 - 52s - loss: 0.0133 - mae: 0.1140 - val_loss: 0.0333 - val_mae: 0.1618\n",
            "\n",
            "Epoch 00005: val_mae improved from 0.20465 to 0.16182, saving model to ./model.h5\n",
            "Epoch 6/100\n",
            "86/86 - 52s - loss: 0.0117 - mae: 0.1078 - val_loss: 0.0263 - val_mae: 0.1449\n",
            "\n",
            "Epoch 00006: val_mae improved from 0.16182 to 0.14490, saving model to ./model.h5\n",
            "Epoch 7/100\n",
            "86/86 - 52s - loss: 0.0104 - mae: 0.0998 - val_loss: 0.0213 - val_mae: 0.1322\n",
            "\n",
            "Epoch 00007: val_mae improved from 0.14490 to 0.13223, saving model to ./model.h5\n",
            "Epoch 8/100\n",
            "86/86 - 52s - loss: 0.0097 - mae: 0.0967 - val_loss: 0.0178 - val_mae: 0.1232\n",
            "\n",
            "Epoch 00008: val_mae improved from 0.13223 to 0.12318, saving model to ./model.h5\n",
            "Epoch 9/100\n",
            "86/86 - 52s - loss: 0.0088 - mae: 0.0925 - val_loss: 0.0153 - val_mae: 0.1162\n",
            "\n",
            "Epoch 00009: val_mae improved from 0.12318 to 0.11620, saving model to ./model.h5\n",
            "Epoch 10/100\n",
            "86/86 - 55s - loss: 0.0079 - mae: 0.0879 - val_loss: 0.0135 - val_mae: 0.1120\n",
            "\n",
            "Epoch 00010: val_mae improved from 0.11620 to 0.11198, saving model to ./model.h5\n",
            "Epoch 11/100\n",
            "86/86 - 53s - loss: 0.0075 - mae: 0.0856 - val_loss: 0.0120 - val_mae: 0.1067\n",
            "\n",
            "Epoch 00011: val_mae improved from 0.11198 to 0.10672, saving model to ./model.h5\n",
            "Epoch 12/100\n",
            "86/86 - 52s - loss: 0.0068 - mae: 0.0826 - val_loss: 0.0108 - val_mae: 0.1034\n",
            "\n",
            "Epoch 00012: val_mae improved from 0.10672 to 0.10336, saving model to ./model.h5\n",
            "Epoch 13/100\n",
            "86/86 - 52s - loss: 0.0066 - mae: 0.0809 - val_loss: 0.0096 - val_mae: 0.1003\n",
            "\n",
            "Epoch 00013: val_mae improved from 0.10336 to 0.10026, saving model to ./model.h5\n",
            "Epoch 14/100\n",
            "86/86 - 52s - loss: 0.0060 - mae: 0.0784 - val_loss: 0.0088 - val_mae: 0.0976\n",
            "\n",
            "Epoch 00014: val_mae improved from 0.10026 to 0.09760, saving model to ./model.h5\n",
            "Epoch 15/100\n",
            "86/86 - 52s - loss: 0.0063 - mae: 0.0790 - val_loss: 0.0082 - val_mae: 0.0931\n",
            "\n",
            "Epoch 00015: val_mae improved from 0.09760 to 0.09312, saving model to ./model.h5\n",
            "Epoch 16/100\n",
            "86/86 - 52s - loss: 0.0057 - mae: 0.0756 - val_loss: 0.0076 - val_mae: 0.0937\n",
            "\n",
            "Epoch 00016: val_mae did not improve from 0.09312\n",
            "Epoch 17/100\n",
            "86/86 - 52s - loss: 0.0052 - mae: 0.0729 - val_loss: 0.0072 - val_mae: 0.0946\n",
            "\n",
            "Epoch 00017: val_mae did not improve from 0.09312\n",
            "Epoch 18/100\n",
            "86/86 - 53s - loss: 0.0053 - mae: 0.0727 - val_loss: 0.0068 - val_mae: 0.0914\n",
            "\n",
            "Epoch 00018: val_mae improved from 0.09312 to 0.09141, saving model to ./model.h5\n",
            "Epoch 19/100\n",
            "86/86 - 52s - loss: 0.0049 - mae: 0.0711 - val_loss: 0.0063 - val_mae: 0.0856\n",
            "\n",
            "Epoch 00019: val_mae improved from 0.09141 to 0.08562, saving model to ./model.h5\n",
            "Epoch 20/100\n",
            "86/86 - 52s - loss: 0.0050 - mae: 0.0701 - val_loss: 0.0061 - val_mae: 0.0858\n",
            "\n",
            "Epoch 00020: val_mae did not improve from 0.08562\n",
            "Epoch 21/100\n",
            "86/86 - 52s - loss: 0.0050 - mae: 0.0699 - val_loss: 0.0058 - val_mae: 0.0834\n",
            "\n",
            "Epoch 00021: val_mae improved from 0.08562 to 0.08341, saving model to ./model.h5\n",
            "Epoch 22/100\n",
            "86/86 - 53s - loss: 0.0049 - mae: 0.0687 - val_loss: 0.0055 - val_mae: 0.0821\n",
            "\n",
            "Epoch 00022: val_mae improved from 0.08341 to 0.08206, saving model to ./model.h5\n",
            "Epoch 23/100\n",
            "86/86 - 53s - loss: 0.0046 - mae: 0.0675 - val_loss: 0.0053 - val_mae: 0.0800\n",
            "\n",
            "Epoch 00023: val_mae improved from 0.08206 to 0.08002, saving model to ./model.h5\n",
            "Epoch 24/100\n",
            "86/86 - 54s - loss: 0.0045 - mae: 0.0668 - val_loss: 0.0050 - val_mae: 0.0775\n",
            "\n",
            "Epoch 00024: val_mae improved from 0.08002 to 0.07753, saving model to ./model.h5\n",
            "Epoch 25/100\n",
            "86/86 - 53s - loss: 0.0046 - mae: 0.0664 - val_loss: 0.0049 - val_mae: 0.0784\n",
            "\n",
            "Epoch 00025: val_mae did not improve from 0.07753\n",
            "Epoch 26/100\n",
            "86/86 - 53s - loss: 0.0042 - mae: 0.0649 - val_loss: 0.0046 - val_mae: 0.0754\n",
            "\n",
            "Epoch 00026: val_mae improved from 0.07753 to 0.07542, saving model to ./model.h5\n",
            "Epoch 27/100\n",
            "86/86 - 53s - loss: 0.0041 - mae: 0.0644 - val_loss: 0.0049 - val_mae: 0.0798\n",
            "\n",
            "Epoch 00027: val_mae did not improve from 0.07542\n",
            "Epoch 28/100\n",
            "86/86 - 53s - loss: 0.0040 - mae: 0.0640 - val_loss: 0.0043 - val_mae: 0.0735\n",
            "\n",
            "Epoch 00028: val_mae improved from 0.07542 to 0.07354, saving model to ./model.h5\n",
            "Epoch 29/100\n",
            "86/86 - 53s - loss: 0.0039 - mae: 0.0632 - val_loss: 0.0046 - val_mae: 0.0761\n",
            "\n",
            "Epoch 00029: val_mae did not improve from 0.07354\n",
            "Epoch 30/100\n",
            "86/86 - 53s - loss: 0.0041 - mae: 0.0643 - val_loss: 0.0039 - val_mae: 0.0675\n",
            "\n",
            "Epoch 00030: val_mae improved from 0.07354 to 0.06753, saving model to ./model.h5\n",
            "Epoch 31/100\n",
            "86/86 - 53s - loss: 0.0039 - mae: 0.0629 - val_loss: 0.0045 - val_mae: 0.0768\n",
            "\n",
            "Epoch 00031: val_mae did not improve from 0.06753\n",
            "Epoch 32/100\n",
            "86/86 - 52s - loss: 0.0040 - mae: 0.0639 - val_loss: 0.0036 - val_mae: 0.0649\n",
            "\n",
            "Epoch 00032: val_mae improved from 0.06753 to 0.06493, saving model to ./model.h5\n",
            "Epoch 33/100\n",
            "86/86 - 53s - loss: 0.0038 - mae: 0.0623 - val_loss: 0.0043 - val_mae: 0.0737\n",
            "\n",
            "Epoch 00033: val_mae did not improve from 0.06493\n",
            "Epoch 34/100\n",
            "86/86 - 53s - loss: 0.0039 - mae: 0.0634 - val_loss: 0.0036 - val_mae: 0.0658\n",
            "\n",
            "Epoch 00034: val_mae did not improve from 0.06493\n",
            "Epoch 35/100\n",
            "86/86 - 53s - loss: 0.0036 - mae: 0.0602 - val_loss: 0.0042 - val_mae: 0.0736\n",
            "\n",
            "Epoch 00035: val_mae did not improve from 0.06493\n",
            "Epoch 36/100\n",
            "86/86 - 52s - loss: 0.0039 - mae: 0.0614 - val_loss: 0.0034 - val_mae: 0.0638\n",
            "\n",
            "Epoch 00036: val_mae improved from 0.06493 to 0.06379, saving model to ./model.h5\n",
            "Epoch 37/100\n",
            "86/86 - 52s - loss: 0.0034 - mae: 0.0587 - val_loss: 0.0037 - val_mae: 0.0684\n",
            "\n",
            "Epoch 00037: val_mae did not improve from 0.06379\n",
            "Epoch 38/100\n",
            "86/86 - 53s - loss: 0.0035 - mae: 0.0589 - val_loss: 0.0032 - val_mae: 0.0612\n",
            "\n",
            "Epoch 00038: val_mae improved from 0.06379 to 0.06119, saving model to ./model.h5\n",
            "Epoch 39/100\n",
            "86/86 - 52s - loss: 0.0034 - mae: 0.0581 - val_loss: 0.0038 - val_mae: 0.0695\n",
            "\n",
            "Epoch 00039: val_mae did not improve from 0.06119\n",
            "Epoch 40/100\n",
            "86/86 - 52s - loss: 0.0035 - mae: 0.0592 - val_loss: 0.0031 - val_mae: 0.0613\n",
            "\n",
            "Epoch 00040: val_mae did not improve from 0.06119\n",
            "Epoch 41/100\n",
            "86/86 - 52s - loss: 0.0034 - mae: 0.0583 - val_loss: 0.0036 - val_mae: 0.0671\n",
            "\n",
            "Epoch 00041: val_mae did not improve from 0.06119\n",
            "Epoch 42/100\n",
            "86/86 - 52s - loss: 0.0034 - mae: 0.0571 - val_loss: 0.0033 - val_mae: 0.0641\n",
            "\n",
            "Epoch 00042: val_mae did not improve from 0.06119\n",
            "Epoch 43/100\n",
            "86/86 - 52s - loss: 0.0034 - mae: 0.0571 - val_loss: 0.0035 - val_mae: 0.0663\n",
            "\n",
            "Epoch 00043: val_mae did not improve from 0.06119\n",
            "Epoch 44/100\n",
            "86/86 - 52s - loss: 0.0032 - mae: 0.0564 - val_loss: 0.0029 - val_mae: 0.0590\n",
            "\n",
            "Epoch 00044: val_mae improved from 0.06119 to 0.05902, saving model to ./model.h5\n",
            "Epoch 45/100\n",
            "86/86 - 52s - loss: 0.0030 - mae: 0.0552 - val_loss: 0.0033 - val_mae: 0.0642\n",
            "\n",
            "Epoch 00045: val_mae did not improve from 0.05902\n",
            "Epoch 46/100\n",
            "86/86 - 52s - loss: 0.0031 - mae: 0.0557 - val_loss: 0.0029 - val_mae: 0.0582\n",
            "\n",
            "Epoch 00046: val_mae improved from 0.05902 to 0.05816, saving model to ./model.h5\n",
            "Epoch 47/100\n",
            "86/86 - 52s - loss: 0.0032 - mae: 0.0556 - val_loss: 0.0031 - val_mae: 0.0610\n",
            "\n",
            "Epoch 00047: val_mae did not improve from 0.05816\n",
            "Epoch 48/100\n",
            "86/86 - 52s - loss: 0.0031 - mae: 0.0557 - val_loss: 0.0028 - val_mae: 0.0582\n",
            "\n",
            "Epoch 00048: val_mae did not improve from 0.05816\n",
            "Epoch 49/100\n",
            "86/86 - 52s - loss: 0.0031 - mae: 0.0545 - val_loss: 0.0032 - val_mae: 0.0628\n",
            "\n",
            "Epoch 00049: val_mae did not improve from 0.05816\n",
            "Epoch 50/100\n",
            "86/86 - 52s - loss: 0.0031 - mae: 0.0551 - val_loss: 0.0027 - val_mae: 0.0562\n",
            "\n",
            "Epoch 00050: val_mae improved from 0.05816 to 0.05624, saving model to ./model.h5\n",
            "Epoch 51/100\n",
            "86/86 - 52s - loss: 0.0030 - mae: 0.0539 - val_loss: 0.0028 - val_mae: 0.0584\n",
            "\n",
            "Epoch 00051: val_mae did not improve from 0.05624\n",
            "Epoch 52/100\n",
            "86/86 - 52s - loss: 0.0031 - mae: 0.0542 - val_loss: 0.0026 - val_mae: 0.0555\n",
            "\n",
            "Epoch 00052: val_mae improved from 0.05624 to 0.05553, saving model to ./model.h5\n",
            "Epoch 53/100\n",
            "86/86 - 52s - loss: 0.0030 - mae: 0.0536 - val_loss: 0.0029 - val_mae: 0.0589\n",
            "\n",
            "Epoch 00053: val_mae did not improve from 0.05553\n",
            "Epoch 54/100\n",
            "86/86 - 52s - loss: 0.0031 - mae: 0.0543 - val_loss: 0.0026 - val_mae: 0.0556\n",
            "\n",
            "Epoch 00054: val_mae did not improve from 0.05553\n",
            "Epoch 55/100\n",
            "86/86 - 52s - loss: 0.0029 - mae: 0.0529 - val_loss: 0.0029 - val_mae: 0.0589\n",
            "\n",
            "Epoch 00055: val_mae did not improve from 0.05553\n",
            "Epoch 56/100\n",
            "86/86 - 52s - loss: 0.0028 - mae: 0.0527 - val_loss: 0.0027 - val_mae: 0.0564\n",
            "\n",
            "Epoch 00056: val_mae did not improve from 0.05553\n",
            "Epoch 57/100\n",
            "86/86 - 52s - loss: 0.0030 - mae: 0.0523 - val_loss: 0.0030 - val_mae: 0.0604\n",
            "\n",
            "Epoch 00057: val_mae did not improve from 0.05553\n",
            "Epoch 58/100\n",
            "86/86 - 52s - loss: 0.0027 - mae: 0.0519 - val_loss: 0.0024 - val_mae: 0.0522\n",
            "\n",
            "Epoch 00058: val_mae improved from 0.05553 to 0.05222, saving model to ./model.h5\n",
            "Epoch 59/100\n",
            "86/86 - 52s - loss: 0.0027 - mae: 0.0523 - val_loss: 0.0028 - val_mae: 0.0585\n",
            "\n",
            "Epoch 00059: val_mae did not improve from 0.05222\n",
            "Epoch 60/100\n",
            "86/86 - 52s - loss: 0.0029 - mae: 0.0531 - val_loss: 0.0022 - val_mae: 0.0499\n",
            "\n",
            "Epoch 00060: val_mae improved from 0.05222 to 0.04985, saving model to ./model.h5\n",
            "Epoch 61/100\n",
            "86/86 - 52s - loss: 0.0028 - mae: 0.0519 - val_loss: 0.0028 - val_mae: 0.0579\n",
            "\n",
            "Epoch 00061: val_mae did not improve from 0.04985\n",
            "Epoch 62/100\n",
            "86/86 - 52s - loss: 0.0029 - mae: 0.0531 - val_loss: 0.0022 - val_mae: 0.0499\n",
            "\n",
            "Epoch 00062: val_mae did not improve from 0.04985\n",
            "Epoch 63/100\n",
            "86/86 - 52s - loss: 0.0027 - mae: 0.0512 - val_loss: 0.0026 - val_mae: 0.0561\n",
            "\n",
            "Epoch 00063: val_mae did not improve from 0.04985\n",
            "Epoch 64/100\n",
            "86/86 - 52s - loss: 0.0029 - mae: 0.0530 - val_loss: 0.0023 - val_mae: 0.0511\n",
            "\n",
            "Epoch 00064: val_mae did not improve from 0.04985\n",
            "Epoch 65/100\n",
            "86/86 - 52s - loss: 0.0027 - mae: 0.0509 - val_loss: 0.0025 - val_mae: 0.0543\n",
            "\n",
            "Epoch 00065: val_mae did not improve from 0.04985\n",
            "Epoch 66/100\n",
            "86/86 - 52s - loss: 0.0027 - mae: 0.0508 - val_loss: 0.0024 - val_mae: 0.0525\n",
            "\n",
            "Epoch 00066: val_mae did not improve from 0.04985\n",
            "Epoch 67/100\n",
            "86/86 - 52s - loss: 0.0025 - mae: 0.0491 - val_loss: 0.0024 - val_mae: 0.0528\n",
            "\n",
            "Epoch 00067: val_mae did not improve from 0.04985\n",
            "Epoch 68/100\n",
            "86/86 - 52s - loss: 0.0027 - mae: 0.0501 - val_loss: 0.0023 - val_mae: 0.0512\n",
            "\n",
            "Epoch 00068: val_mae did not improve from 0.04985\n",
            "Epoch 69/100\n",
            "86/86 - 52s - loss: 0.0027 - mae: 0.0496 - val_loss: 0.0024 - val_mae: 0.0532\n",
            "\n",
            "Epoch 00069: val_mae did not improve from 0.04985\n",
            "Epoch 70/100\n",
            "86/86 - 52s - loss: 0.0025 - mae: 0.0494 - val_loss: 0.0022 - val_mae: 0.0500\n",
            "\n",
            "Epoch 00070: val_mae did not improve from 0.04985\n",
            "Epoch 71/100\n",
            "86/86 - 52s - loss: 0.0025 - mae: 0.0483 - val_loss: 0.0023 - val_mae: 0.0522\n",
            "\n",
            "Epoch 00071: val_mae did not improve from 0.04985\n",
            "Epoch 72/100\n",
            "86/86 - 52s - loss: 0.0025 - mae: 0.0493 - val_loss: 0.0022 - val_mae: 0.0498\n",
            "\n",
            "Epoch 00072: val_mae improved from 0.04985 to 0.04980, saving model to ./model.h5\n",
            "Epoch 73/100\n",
            "86/86 - 52s - loss: 0.0025 - mae: 0.0491 - val_loss: 0.0024 - val_mae: 0.0534\n",
            "\n",
            "Epoch 00073: val_mae did not improve from 0.04980\n",
            "Epoch 74/100\n",
            "86/86 - 52s - loss: 0.0025 - mae: 0.0487 - val_loss: 0.0023 - val_mae: 0.0516\n",
            "\n",
            "Epoch 00074: val_mae did not improve from 0.04980\n",
            "Epoch 75/100\n",
            "86/86 - 52s - loss: 0.0025 - mae: 0.0475 - val_loss: 0.0026 - val_mae: 0.0554\n",
            "\n",
            "Epoch 00075: val_mae did not improve from 0.04980\n",
            "Epoch 76/100\n",
            "86/86 - 53s - loss: 0.0024 - mae: 0.0478 - val_loss: 0.0021 - val_mae: 0.0488\n",
            "\n",
            "Epoch 00076: val_mae improved from 0.04980 to 0.04885, saving model to ./model.h5\n",
            "Epoch 77/100\n",
            "86/86 - 52s - loss: 0.0025 - mae: 0.0482 - val_loss: 0.0026 - val_mae: 0.0564\n",
            "\n",
            "Epoch 00077: val_mae did not improve from 0.04885\n",
            "Epoch 78/100\n",
            "86/86 - 53s - loss: 0.0027 - mae: 0.0502 - val_loss: 0.0020 - val_mae: 0.0473\n",
            "\n",
            "Epoch 00078: val_mae improved from 0.04885 to 0.04725, saving model to ./model.h5\n",
            "Epoch 79/100\n",
            "86/86 - 53s - loss: 0.0024 - mae: 0.0477 - val_loss: 0.0029 - val_mae: 0.0592\n",
            "\n",
            "Epoch 00079: val_mae did not improve from 0.04725\n",
            "Epoch 80/100\n",
            "86/86 - 52s - loss: 0.0026 - mae: 0.0494 - val_loss: 0.0020 - val_mae: 0.0478\n",
            "\n",
            "Epoch 00080: val_mae did not improve from 0.04725\n",
            "Epoch 81/100\n",
            "86/86 - 52s - loss: 0.0024 - mae: 0.0476 - val_loss: 0.0026 - val_mae: 0.0554\n",
            "\n",
            "Epoch 00081: val_mae did not improve from 0.04725\n",
            "Epoch 82/100\n",
            "86/86 - 52s - loss: 0.0027 - mae: 0.0493 - val_loss: 0.0019 - val_mae: 0.0461\n",
            "\n",
            "Epoch 00082: val_mae improved from 0.04725 to 0.04606, saving model to ./model.h5\n",
            "Epoch 83/100\n",
            "86/86 - 52s - loss: 0.0025 - mae: 0.0477 - val_loss: 0.0027 - val_mae: 0.0567\n",
            "\n",
            "Epoch 00083: val_mae did not improve from 0.04606\n",
            "Epoch 84/100\n",
            "86/86 - 52s - loss: 0.0026 - mae: 0.0495 - val_loss: 0.0020 - val_mae: 0.0467\n",
            "\n",
            "Epoch 00084: val_mae did not improve from 0.04606\n",
            "Epoch 85/100\n",
            "86/86 - 52s - loss: 0.0023 - mae: 0.0457 - val_loss: 0.0026 - val_mae: 0.0563\n",
            "\n",
            "Epoch 00085: val_mae did not improve from 0.04606\n",
            "Epoch 86/100\n",
            "86/86 - 52s - loss: 0.0024 - mae: 0.0472 - val_loss: 0.0023 - val_mae: 0.0511\n",
            "\n",
            "Epoch 00086: val_mae did not improve from 0.04606\n",
            "Epoch 87/100\n",
            "86/86 - 52s - loss: 0.0023 - mae: 0.0458 - val_loss: 0.0021 - val_mae: 0.0493\n",
            "\n",
            "Epoch 00087: val_mae did not improve from 0.04606\n",
            "Epoch 88/100\n",
            "86/86 - 52s - loss: 0.0025 - mae: 0.0472 - val_loss: 0.0022 - val_mae: 0.0504\n",
            "\n",
            "Epoch 00088: val_mae did not improve from 0.04606\n",
            "Epoch 89/100\n",
            "86/86 - 52s - loss: 0.0025 - mae: 0.0468 - val_loss: 0.0019 - val_mae: 0.0465\n",
            "\n",
            "Epoch 00089: val_mae did not improve from 0.04606\n",
            "Epoch 90/100\n",
            "86/86 - 52s - loss: 0.0025 - mae: 0.0468 - val_loss: 0.0025 - val_mae: 0.0544\n",
            "\n",
            "Epoch 00090: val_mae did not improve from 0.04606\n",
            "Epoch 91/100\n",
            "86/86 - 52s - loss: 0.0024 - mae: 0.0461 - val_loss: 0.0021 - val_mae: 0.0483\n",
            "\n",
            "Epoch 00091: val_mae did not improve from 0.04606\n",
            "Epoch 92/100\n",
            "86/86 - 52s - loss: 0.0024 - mae: 0.0461 - val_loss: 0.0026 - val_mae: 0.0558\n",
            "\n",
            "Epoch 00092: val_mae did not improve from 0.04606\n",
            "Epoch 93/100\n",
            "86/86 - 52s - loss: 0.0024 - mae: 0.0465 - val_loss: 0.0020 - val_mae: 0.0473\n",
            "\n",
            "Epoch 00093: val_mae did not improve from 0.04606\n",
            "Epoch 94/100\n",
            "86/86 - 52s - loss: 0.0023 - mae: 0.0457 - val_loss: 0.0025 - val_mae: 0.0549\n",
            "\n",
            "Epoch 00094: val_mae did not improve from 0.04606\n",
            "Epoch 95/100\n",
            "86/86 - 52s - loss: 0.0025 - mae: 0.0470 - val_loss: 0.0019 - val_mae: 0.0456\n",
            "\n",
            "Epoch 00095: val_mae improved from 0.04606 to 0.04564, saving model to ./model.h5\n",
            "Epoch 96/100\n",
            "86/86 - 52s - loss: 0.0023 - mae: 0.0449 - val_loss: 0.0027 - val_mae: 0.0569\n",
            "\n",
            "Epoch 00096: val_mae did not improve from 0.04564\n",
            "Epoch 97/100\n",
            "86/86 - 52s - loss: 0.0025 - mae: 0.0472 - val_loss: 0.0019 - val_mae: 0.0456\n",
            "\n",
            "Epoch 00097: val_mae improved from 0.04564 to 0.04560, saving model to ./model.h5\n",
            "Epoch 98/100\n",
            "86/86 - 52s - loss: 0.0024 - mae: 0.0468 - val_loss: 0.0030 - val_mae: 0.0619\n",
            "\n",
            "Epoch 00098: val_mae did not improve from 0.04560\n",
            "Epoch 99/100\n",
            "86/86 - 52s - loss: 0.0028 - mae: 0.0505 - val_loss: 0.0019 - val_mae: 0.0454\n",
            "\n",
            "Epoch 00099: val_mae improved from 0.04560 to 0.04536, saving model to ./model.h5\n",
            "Epoch 100/100\n",
            "86/86 - 52s - loss: 0.0025 - mae: 0.0475 - val_loss: 0.0027 - val_mae: 0.0580\n",
            "\n",
            "Epoch 00100: val_mae did not improve from 0.04536\n"
          ],
          "name": "stdout"
        }
      ]
    },
    {
      "cell_type": "markdown",
      "metadata": {
        "id": "e-4DnE_4HbvY"
      },
      "source": [
        "<h1> <strong> 11. Grafik Loss dan MAE dari data Training dan Test</strong></h1>"
      ]
    },
    {
      "cell_type": "code",
      "metadata": {
        "colab": {
          "base_uri": "https://localhost:8080/",
          "height": 409
        },
        "id": "XriqF4-oHaDO",
        "outputId": "b5a56cc3-e2b3-4a2e-facf-5e602787fa47"
      },
      "source": [
        "train_loss = history.history['loss']\n",
        "train_mae = history.history['mae']\n",
        "\n",
        "val_loss = history.history['val_loss']\n",
        "val_mae = history.history['val_mae']\n",
        "\n",
        "epochs_range = range(20)\n",
        "\n",
        "plt.figure(figsize=(32, 6))\n",
        "plt.subplot(1, 2,1)\n",
        "plt.plot(train_mae, label='Training MAE')\n",
        "plt.plot(val_mae, label='Validation MAE')\n",
        "plt.legend(loc='upper right')\n",
        "plt.title('Training and Validation MAE')\n",
        "\n",
        "plt.subplot(1, 2,2)\n",
        "plt.plot(train_loss, label='Training Loss')\n",
        "plt.plot(val_loss, label='Validation Loss')\n",
        "plt.legend(loc='upper right')\n",
        "plt.title('Training and Validation Loss')\n",
        "plt.show()"
      ],
      "execution_count": 29,
      "outputs": [
        {
          "output_type": "display_data",
          "data": {
            "image/png": "[encoded data removed]",
            "text/plain": [
              "<Figure size 2304x432 with 2 Axes>"
            ]
          },
          "metadata": {
            "tags": []
          }
        }
      ]
    },
    {
      "cell_type": "markdown",
      "metadata": {
        "id": "GsgaY80cUjm7"
      },
      "source": [
        "<h1> <strong> 12. Grafik Harga Emas(Price) Test/Validation VS Prediksi Model yang telah dibuat </strong></h1>"
      ]
    },
    {
      "cell_type": "code",
      "metadata": {
        "colab": {
          "base_uri": "https://localhost:8080/",
          "height": 388
        },
        "id": "OCeRncspQL0b",
        "outputId": "c6834f96-a89e-4972-a21d-b82b9942cf77"
      },
      "source": [
        "def model_forecast(model, series, window_size):\n",
        " ds = tf.data.Dataset.from_tensor_slices(series)\n",
        " ds = ds.window(window_size, shift=1, drop_remainder=True)\n",
        " ds = ds.flat_map(lambda w: w.batch(window_size))\n",
        " ds = ds.batch(32).prefetch(1)\n",
        " forecast = model.predict(ds)\n",
        " return forecast\n",
        "\n",
        "def plot_series(time, series, format=\"-\", start=0, end=None):\n",
        "    plt.plot(time[start:end], series[start:end], format)\n",
        "    plt.xlabel(\"Time\")\n",
        "    plt.ylabel(\"Value\")\n",
        "    plt.grid(True)\n",
        "\n",
        "window_size=60\n",
        "\n",
        "rnn_forecast = model_forecast(model, price_data[..., np.newaxis], window_size)\n",
        "rnn_forecast = rnn_forecast[len(price_train)-window_size:-1, 0]\n",
        "plt.figure(figsize=(10, 6))\n",
        "plot_series(date_test, price_test)\n",
        "plot_series(date_test, rnn_forecast)"
      ],
      "execution_count": 40,
      "outputs": [
        {
          "output_type": "display_data",
          "data": {
            "image/png": "[encoded data removed]",
            "text/plain": [
              "<Figure size 720x432 with 1 Axes>"
            ]
          },
          "metadata": {
            "tags": []
          }
        }
      ]
    }
  ]
}